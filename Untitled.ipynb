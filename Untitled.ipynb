{
 "cells": [
  {
   "cell_type": "markdown",
   "id": "9024b174",
   "metadata": {},
   "source": [
    "# My Jupyter Notebook on IBM Watson Studio"
   ]
  },
  {
   "cell_type": "markdown",
   "id": "5afb8652",
   "metadata": {},
   "source": [
    "**Abtahi Reza**\n",
    "\n",
    "Industry data science job"
   ]
  },
  {
   "cell_type": "markdown",
   "id": "40710d88",
   "metadata": {},
   "source": [
    "*I am interested in data science because it organize a good story to inspect and detect possible solutions*"
   ]
  },
  {
   "cell_type": "markdown",
   "id": "dcff3a1c",
   "metadata": {},
   "source": [
    "### My code will work as an addition of two numbers"
   ]
  },
  {
   "cell_type": "code",
   "execution_count": 3,
   "id": "fb196767",
   "metadata": {},
   "outputs": [
    {
     "name": "stdout",
     "output_type": "stream",
     "text": [
      "Sum of x and y : 6\n"
     ]
    }
   ],
   "source": [
    "x = 1\n",
    "y = 5\n",
    "z = x+y\n",
    "print('Sum of x and y :', z)"
   ]
  },
  {
   "cell_type": "markdown",
   "id": "ea2b5c2b",
   "metadata": {},
   "source": [
    "-  Bulleted Items\n",
    "1. Numbered\n",
    "***"
   ]
  }
 ],
 "metadata": {
  "kernelspec": {
   "display_name": "Python 3 (ipykernel)",
   "language": "python",
   "name": "python3"
  },
  "language_info": {
   "codemirror_mode": {
    "name": "ipython",
    "version": 3
   },
   "file_extension": ".py",
   "mimetype": "text/x-python",
   "name": "python",
   "nbconvert_exporter": "python",
   "pygments_lexer": "ipython3",
   "version": "3.9.13"
  }
 },
 "nbformat": 4,
 "nbformat_minor": 5
}
